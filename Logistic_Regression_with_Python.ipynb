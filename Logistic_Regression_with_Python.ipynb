{
 "cells": [
  {
   "cell_type": "markdown",
   "metadata": {
    "toc": true
   },
   "source": [
    "<h1>Table of Contents<span class=\"tocSkip\"></span></h1>\n",
    "<div class=\"toc\"><ul class=\"toc-item\"><li><span><a href=\"#Environment-preparation\" data-toc-modified-id=\"Environment-preparation-1\"><span class=\"toc-item-num\">1&nbsp;&nbsp;</span>Environment preparation</a></span></li><li><span><a href=\"#Logistic-Regression-with-Python\" data-toc-modified-id=\"Logistic-Regression-with-Python-2\"><span class=\"toc-item-num\">2&nbsp;&nbsp;</span>Logistic Regression with Python</a></span><ul class=\"toc-item\"><li><span><a href=\"#Voting-intention-data\" data-toc-modified-id=\"Voting-intention-data-2.1\"><span class=\"toc-item-num\">2.1&nbsp;&nbsp;</span>Voting intention data</a></span><ul class=\"toc-item\"><li><span><a href=\"#The-Linear-Regression\" data-toc-modified-id=\"The-Linear-Regression-2.1.1\"><span class=\"toc-item-num\">2.1.1&nbsp;&nbsp;</span>The Linear Regression</a></span></li><li><span><a href=\"#The-Logistic-Regression\" data-toc-modified-id=\"The-Logistic-Regression-2.1.2\"><span class=\"toc-item-num\">2.1.2&nbsp;&nbsp;</span>The Logistic Regression</a></span></li><li><span><a href=\"#Parameters-interpretation---odds\" data-toc-modified-id=\"Parameters-interpretation---odds-2.1.3\"><span class=\"toc-item-num\">2.1.3&nbsp;&nbsp;</span>Parameters interpretation - odds</a></span></li><li><span><a href=\"#Parameters-interpretation---Marginal-effects\" data-toc-modified-id=\"Parameters-interpretation---Marginal-effects-2.1.4\"><span class=\"toc-item-num\">2.1.4&nbsp;&nbsp;</span>Parameters interpretation - Marginal effects</a></span></li><li><span><a href=\"#Linear-versus-Logistics\" data-toc-modified-id=\"Linear-versus-Logistics-2.1.5\"><span class=\"toc-item-num\">2.1.5&nbsp;&nbsp;</span>Linear versus Logistics</a></span></li><li><span><a href=\"#Logistic-regression-with-covariates:-Lrenda,-gender-...\" data-toc-modified-id=\"Logistic-regression-with-covariates:-Lrenda,-gender-...-2.1.6\"><span class=\"toc-item-num\">2.1.6&nbsp;&nbsp;</span>Logistic regression with covariates: Lrenda, gender ...</a></span></li><li><span><a href=\"#Logistic-regression-with-covariates:-graph-of-conditional-effects\" data-toc-modified-id=\"Logistic-regression-with-covariates:-graph-of-conditional-effects-2.1.7\"><span class=\"toc-item-num\">2.1.7&nbsp;&nbsp;</span>Logistic regression with covariates: graph of conditional effects</a></span></li></ul></li><li><span><a href=\"#Example-of-Vtown-data\" data-toc-modified-id=\"Example-of-Vtown-data-2.2\"><span class=\"toc-item-num\">2.2&nbsp;&nbsp;</span>Example of Vtown data</a></span><ul class=\"toc-item\"><li><span><a href=\"#Preliminary-bivariate-analysis\" data-toc-modified-id=\"Preliminary-bivariate-analysis-2.2.1\"><span class=\"toc-item-num\">2.2.1&nbsp;&nbsp;</span>Preliminary bivariate analysis</a></span><ul class=\"toc-item\"><li><span><a href=\"#Bivariate-for-Categorical-variables\" data-toc-modified-id=\"Bivariate-for-Categorical-variables-2.2.1.1\"><span class=\"toc-item-num\">2.2.1.1&nbsp;&nbsp;</span>Bivariate for Categorical variables</a></span></li><li><span><a href=\"#Bivariate-for-numerical-variables\" data-toc-modified-id=\"Bivariate-for-numerical-variables-2.2.1.2\"><span class=\"toc-item-num\">2.2.1.2&nbsp;&nbsp;</span>Bivariate for numerical variables</a></span></li></ul></li></ul></li><li><span><a href=\"#Barómetre-de-Catalunya-(2021-01-29)\" data-toc-modified-id=\"Barómetre-de-Catalunya-(2021-01-29)-2.3\"><span class=\"toc-item-num\">2.3&nbsp;&nbsp;</span>Barómetre de Catalunya (2021-01-29)</a></span><ul class=\"toc-item\"><li><span><a href=\"#Missing-analysis\" data-toc-modified-id=\"Missing-analysis-2.3.1\"><span class=\"toc-item-num\">2.3.1&nbsp;&nbsp;</span>Missing analysis</a></span></li><li><span><a href=\"#Dependent-variable\" data-toc-modified-id=\"Dependent-variable-2.3.2\"><span class=\"toc-item-num\">2.3.2&nbsp;&nbsp;</span>Dependent variable</a></span></li><li><span><a href=\"#Univariate-and-bivariate-analysis\" data-toc-modified-id=\"Univariate-and-bivariate-analysis-2.3.3\"><span class=\"toc-item-num\">2.3.3&nbsp;&nbsp;</span>Univariate and bivariate analysis</a></span><ul class=\"toc-item\"><li><span><a href=\"#PROVINCIA\" data-toc-modified-id=\"PROVINCIA-2.3.3.1\"><span class=\"toc-item-num\">2.3.3.1&nbsp;&nbsp;</span>PROVINCIA</a></span></li><li><span><a href=\"#HABITAT\" data-toc-modified-id=\"HABITAT-2.3.3.2\"><span class=\"toc-item-num\">2.3.3.2&nbsp;&nbsp;</span>HABITAT</a></span></li><li><span><a href=\"#SEXE\" data-toc-modified-id=\"SEXE-2.3.3.3\"><span class=\"toc-item-num\">2.3.3.3&nbsp;&nbsp;</span>SEXE</a></span></li><li><span><a href=\"#EDAT\" data-toc-modified-id=\"EDAT-2.3.3.4\"><span class=\"toc-item-num\">2.3.3.4&nbsp;&nbsp;</span>EDAT</a></span></li><li><span><a href=\"#P38---Income\" data-toc-modified-id=\"P38---Income-2.3.3.5\"><span class=\"toc-item-num\">2.3.3.5&nbsp;&nbsp;</span>P38 - Income</a></span></li></ul></li><li><span><a href=\"#Model-specification\" data-toc-modified-id=\"Model-specification-2.3.4\"><span class=\"toc-item-num\">2.3.4&nbsp;&nbsp;</span>Model specification</a></span></li><li><span><a href=\"#Influential-values-in-Logistic-regression\" data-toc-modified-id=\"Influential-values-in-Logistic-regression-2.3.5\"><span class=\"toc-item-num\">2.3.5&nbsp;&nbsp;</span>Influential values in Logistic regression</a></span></li></ul></li></ul></li></ul></div>"
   ]
  },
  {
   "cell_type": "markdown",
   "metadata": {
    "id": "8dbKvXOBMtBa"
   },
   "source": [
    "# Environment preparation\n"
   ]
  },
  {
   "cell_type": "code",
   "execution_count": 1,
   "metadata": {},
   "outputs": [],
   "source": [
    "#pip install statsmodels\n",
    "#pip install stargazer\n",
    "#pip install scikit-learn\n",
    "#pip install pyreadstat"
   ]
  },
  {
   "cell_type": "code",
   "execution_count": 2,
   "metadata": {
    "colab": {
     "base_uri": "https://localhost:8080/"
    },
    "executionInfo": {
     "elapsed": 25678,
     "status": "ok",
     "timestamp": 1604317087349,
     "user": {
      "displayName": "alumnos bigdata",
      "photoUrl": "",
      "userId": "10710302360204190833"
     },
     "user_tz": -60
    },
    "id": "2SBF5dlSTi-h",
    "outputId": "b85ff6ea-725c-464c-abf4-fc481a6882de"
   },
   "outputs": [],
   "source": [
    "if 'google.colab' in str(get_ipython()):\n",
    "    !git clone https://github.com/griu/msc_python.git /content/msc_python\n",
    "    !git -C /content/msc_python pull\n",
    "    %cd /content/msc_python\n",
    "    !pip install stargazer\n",
    "    !pip install pyreadstat"
   ]
  },
  {
   "cell_type": "markdown",
   "metadata": {},
   "source": [
    "__[Open in Colab](https://colab.research.google.com/github/griu/msc_python/blob/master/Logistic_Regression_with_Python.ipynb)__   *: <span style=\"color:rgba(255, 99, 71, 0.8)\">Padawan! When you login to Colab, prepare the environment by running the following code.</span>*"
   ]
  },
  {
   "cell_type": "markdown",
   "metadata": {},
   "source": [
    "# Logistic Regression with Python\n",
    "\n"
   ]
  },
  {
   "cell_type": "code",
   "execution_count": 3,
   "metadata": {},
   "outputs": [],
   "source": [
    "# Importing the packages\n",
    "\n",
    "import pandas as pd\n",
    "import numpy as np\n",
    "import seaborn as sns\n",
    "import matplotlib.pyplot as plt\n",
    "import requests\n",
    "\n",
    "import statsmodels.api as sm\n",
    "import statsmodels.formula.api as smf\n",
    "import statsmodels.graphics.api as smg\n",
    "from statsmodels.stats.outliers_influence import variance_inflation_factor\n",
    "from patsy import dmatrices\n",
    "import scipy.stats as stats\n",
    "from statsmodels.genmod.generalized_linear_model import GLM\n",
    "from statsmodels.genmod import families\n",
    "from stargazer.stargazer import Stargazer\n",
    "from IPython.core.display import display, HTML\n",
    "import scipy\n",
    "import math"
   ]
  },
  {
   "cell_type": "code",
   "execution_count": 4,
   "metadata": {},
   "outputs": [],
   "source": [
    "# setting matplot theme\n",
    "sns.set_theme(color_codes=True)\n"
   ]
  },
  {
   "cell_type": "code",
   "execution_count": 5,
   "metadata": {},
   "outputs": [],
   "source": [
    "# Visualization\n",
    "def visreg(fit, xvar, by, data, cond=dict()):\n",
    "    \n",
    "    # conditions\n",
    "    allBy = np.sort(data[by].unique())\n",
    "    \n",
    "    # initializing dataframes\n",
    "    df0 = pd.DataFrame(np.sort(data[xvar].copy().unique()),columns=[xvar])\n",
    "    df0[by] = allBy[0] \n",
    "    df1 = df0.copy()\n",
    "    \n",
    "    # several copies by\n",
    "    for x in allBy[1:]:\n",
    "        df1[by] = x\n",
    "        df0 = df0.append(df1, ignore_index=True)\n",
    "        \n",
    "    for k, v in cond.items():\n",
    "        df0[k] = v\n",
    "    \n",
    "    # predict\n",
    "    df0[fit.model.endog_names] = fit.predict(df0)\n",
    "    \n",
    "    ax = sns.lineplot(data = df0, x=xvar, y = fit.model.endog_names, hue = by)\n",
    "    ax.set_title('Conditional effects plot')\n",
    "    ax.set(ylabel='Prob(' + fit.model.endog_names + ')')\n",
    "\n",
    "    return ax"
   ]
  },
  {
   "cell_type": "code",
   "execution_count": 6,
   "metadata": {},
   "outputs": [],
   "source": [
    "# model comparision\n",
    "def anovaLogit(fit1,fit2):\n",
    "    Deviance = abs(-2*(fit2.model.loglike(fit2.params) - fit1.model.loglike(fit1.params)))\n",
    "    DF = 2\n",
    "    p_value = scipy.stats.chi2.sf(Deviance,DF)\n",
    "    \n",
    "    return {'Deviance':Deviance, 'DF':DF, 'p_value' : p_value}\n",
    "    "
   ]
  },
  {
   "cell_type": "code",
   "execution_count": 7,
   "metadata": {},
   "outputs": [],
   "source": [
    "# defining bivariate functions\n",
    "\n",
    "def without_hue(ax, feature):\n",
    "    total = len(feature)\n",
    "    for p in ax.patches:\n",
    "        percentage = '{:.1f}%'.format(100 * p.get_height()/total)\n",
    "        x = p.get_x() + p.get_width() / 10\n",
    "        y = p.get_y() + p.get_height()\n",
    "        ax.annotate(percentage, (x, y), size = 12)\n",
    "    plt.show()\n",
    "\n",
    "def bivar_bin(x,catVar,binVar,method = 'qcut',points = 7, saveTransf=False):\n",
    "    # options for method: 'qcut', 'cut', None\n",
    "    ind_transf = 0\n",
    "    if saveTransf:\n",
    "        x1 = x\n",
    "    else:\n",
    "        x1 = x.copy()\n",
    "\n",
    "    # partitioning numerical column\n",
    "    if (catVar in x1.select_dtypes('number').columns) and (method \n",
    "                                                          in ['qcut','cut']):\n",
    "        if type(points) is list:\n",
    "            if len(x1[catVar].unique()) > len(points):\n",
    "                ind_transf = 1\n",
    "        else:\n",
    "            if len(x1[catVar].unique()) > points:\n",
    "                ind_transf = 1\n",
    "        if (ind_transf==1) and (method==\"qcut\"):\n",
    "            x1[catVar + '_T'] = pd.qcut(x1[catVar], points,duplicates='drop')\n",
    "            catVar = catVar + '_T'\n",
    "\n",
    "        if (ind_transf==1) and (method==\"cut\"):\n",
    "            x1[catVar + '_T'] = pd.cut(x1[catVar], points,right=False,duplicates='drop')\n",
    "            catVar = catVar + '_T'\n",
    "    \n",
    "    # generating plots\n",
    "    sns.set(rc={'figure.figsize':(11,4)})\n",
    "    fig, ax = plt.subplots(1,2)\n",
    "    \n",
    "    sns.countplot(x=catVar,data=x1, ax=ax[0])\n",
    "    ax[0].tick_params(labelrotation=90)\n",
    "    ax[0].set(title=catVar+' distribution')\n",
    "    \n",
    "    sns.barplot(x=catVar,y=binVar, data=x1, ax=ax[1])\n",
    "    ax[1].tick_params(labelrotation=90)\n",
    "    ax[1].set(ylabel='Propensity '+binVar, title=binVar + ' % by '+catVar)\n",
    "    \n",
    "    # adding percentage to countplot\n",
    "    without_hue(ax[0],x1[catVar])\n"
   ]
  },
  {
   "cell_type": "markdown",
   "metadata": {},
   "source": [
    "## Voting intention data\n",
    "\n",
    "- Random sample size n = 800 of a population\n",
    "- Variables: expenditure, income, gender (1/0, man = 1), vote (1/0, party A = 1)"
   ]
  },
  {
   "cell_type": "code",
   "execution_count": 8,
   "metadata": {},
   "outputs": [
    {
     "data": {
      "text/plain": [
       "(800, 4)"
      ]
     },
     "execution_count": 8,
     "metadata": {},
     "output_type": "execute_result"
    }
   ],
   "source": [
    "df = pd.read_csv(\"M2014dadesSIM.csv\")\n",
    "df.shape"
   ]
  },
  {
   "cell_type": "markdown",
   "metadata": {},
   "source": [
    "\n"
   ]
  },
  {
   "cell_type": "code",
   "execution_count": 9,
   "metadata": {},
   "outputs": [
    {
     "name": "stdout",
     "output_type": "stream",
     "text": [
      "<class 'pandas.core.frame.DataFrame'>\n",
      "RangeIndex: 800 entries, 0 to 799\n",
      "Data columns (total 4 columns):\n",
      " #   Column     Non-Null Count  Dtype  \n",
      "---  ------     --------------  -----  \n",
      " 0   Lrenda     800 non-null    float64\n",
      " 1   Ldespeses  800 non-null    float64\n",
      " 2   Genere     800 non-null    int64  \n",
      " 3   Vot        800 non-null    int64  \n",
      "dtypes: float64(2), int64(2)\n",
      "memory usage: 25.1 KB\n"
     ]
    }
   ],
   "source": [
    "df.info()"
   ]
  },
  {
   "cell_type": "code",
   "execution_count": 10,
   "metadata": {},
   "outputs": [
    {
     "data": {
      "text/html": [
       "<div>\n",
       "<style scoped>\n",
       "    .dataframe tbody tr th:only-of-type {\n",
       "        vertical-align: middle;\n",
       "    }\n",
       "\n",
       "    .dataframe tbody tr th {\n",
       "        vertical-align: top;\n",
       "    }\n",
       "\n",
       "    .dataframe thead th {\n",
       "        text-align: right;\n",
       "    }\n",
       "</style>\n",
       "<table border=\"1\" class=\"dataframe\">\n",
       "  <thead>\n",
       "    <tr style=\"text-align: right;\">\n",
       "      <th></th>\n",
       "      <th>Lrenda</th>\n",
       "      <th>Ldespeses</th>\n",
       "      <th>Genere</th>\n",
       "      <th>Vot</th>\n",
       "    </tr>\n",
       "  </thead>\n",
       "  <tbody>\n",
       "    <tr>\n",
       "      <th>count</th>\n",
       "      <td>800.000000</td>\n",
       "      <td>800.000000</td>\n",
       "      <td>800.000000</td>\n",
       "      <td>800.000000</td>\n",
       "    </tr>\n",
       "    <tr>\n",
       "      <th>mean</th>\n",
       "      <td>10.031189</td>\n",
       "      <td>4.978471</td>\n",
       "      <td>0.515000</td>\n",
       "      <td>0.550000</td>\n",
       "    </tr>\n",
       "    <tr>\n",
       "      <th>std</th>\n",
       "      <td>1.003210</td>\n",
       "      <td>0.661519</td>\n",
       "      <td>0.500088</td>\n",
       "      <td>0.497805</td>\n",
       "    </tr>\n",
       "    <tr>\n",
       "      <th>min</th>\n",
       "      <td>7.175000</td>\n",
       "      <td>2.232000</td>\n",
       "      <td>0.000000</td>\n",
       "      <td>0.000000</td>\n",
       "    </tr>\n",
       "    <tr>\n",
       "      <th>25%</th>\n",
       "      <td>9.328500</td>\n",
       "      <td>4.571750</td>\n",
       "      <td>0.000000</td>\n",
       "      <td>0.000000</td>\n",
       "    </tr>\n",
       "    <tr>\n",
       "      <th>50%</th>\n",
       "      <td>10.084500</td>\n",
       "      <td>4.968000</td>\n",
       "      <td>1.000000</td>\n",
       "      <td>1.000000</td>\n",
       "    </tr>\n",
       "    <tr>\n",
       "      <th>75%</th>\n",
       "      <td>10.698000</td>\n",
       "      <td>5.421000</td>\n",
       "      <td>1.000000</td>\n",
       "      <td>1.000000</td>\n",
       "    </tr>\n",
       "    <tr>\n",
       "      <th>max</th>\n",
       "      <td>13.178000</td>\n",
       "      <td>7.759000</td>\n",
       "      <td>1.000000</td>\n",
       "      <td>1.000000</td>\n",
       "    </tr>\n",
       "  </tbody>\n",
       "</table>\n",
       "</div>"
      ],
      "text/plain": [
       "           Lrenda   Ldespeses      Genere         Vot\n",
       "count  800.000000  800.000000  800.000000  800.000000\n",
       "mean    10.031189    4.978471    0.515000    0.550000\n",
       "std      1.003210    0.661519    0.500088    0.497805\n",
       "min      7.175000    2.232000    0.000000    0.000000\n",
       "25%      9.328500    4.571750    0.000000    0.000000\n",
       "50%     10.084500    4.968000    1.000000    1.000000\n",
       "75%     10.698000    5.421000    1.000000    1.000000\n",
       "max     13.178000    7.759000    1.000000    1.000000"
      ]
     },
     "execution_count": 10,
     "metadata": {},
     "output_type": "execute_result"
    }
   ],
   "source": [
    "df.describe()"
   ]
  },
  {
   "cell_type": "markdown",
   "metadata": {},
   "source": [
    "33.3% are observed in the intention of the vote of party A."
   ]
  },
  {
   "cell_type": "code",
   "execution_count": 11,
   "metadata": {},
   "outputs": [
    {
     "data": {
      "text/html": [
       "<div>\n",
       "<style scoped>\n",
       "    .dataframe tbody tr th:only-of-type {\n",
       "        vertical-align: middle;\n",
       "    }\n",
       "\n",
       "    .dataframe tbody tr th {\n",
       "        vertical-align: top;\n",
       "    }\n",
       "\n",
       "    .dataframe thead th {\n",
       "        text-align: right;\n",
       "    }\n",
       "</style>\n",
       "<table border=\"1\" class=\"dataframe\">\n",
       "  <thead>\n",
       "    <tr style=\"text-align: right;\">\n",
       "      <th></th>\n",
       "      <th>Lrenda</th>\n",
       "      <th>Ldespeses</th>\n",
       "      <th>Genere</th>\n",
       "      <th>Vot</th>\n",
       "    </tr>\n",
       "  </thead>\n",
       "  <tbody>\n",
       "    <tr>\n",
       "      <th>0</th>\n",
       "      <td>9.477</td>\n",
       "      <td>4.503</td>\n",
       "      <td>1</td>\n",
       "      <td>1</td>\n",
       "    </tr>\n",
       "    <tr>\n",
       "      <th>1</th>\n",
       "      <td>11.435</td>\n",
       "      <td>6.147</td>\n",
       "      <td>1</td>\n",
       "      <td>0</td>\n",
       "    </tr>\n",
       "    <tr>\n",
       "      <th>2</th>\n",
       "      <td>10.686</td>\n",
       "      <td>4.961</td>\n",
       "      <td>0</td>\n",
       "      <td>0</td>\n",
       "    </tr>\n",
       "    <tr>\n",
       "      <th>3</th>\n",
       "      <td>10.407</td>\n",
       "      <td>3.993</td>\n",
       "      <td>0</td>\n",
       "      <td>0</td>\n",
       "    </tr>\n",
       "    <tr>\n",
       "      <th>4</th>\n",
       "      <td>10.814</td>\n",
       "      <td>5.746</td>\n",
       "      <td>0</td>\n",
       "      <td>0</td>\n",
       "    </tr>\n",
       "  </tbody>\n",
       "</table>\n",
       "</div>"
      ],
      "text/plain": [
       "   Lrenda  Ldespeses  Genere  Vot\n",
       "0   9.477      4.503       1    1\n",
       "1  11.435      6.147       1    0\n",
       "2  10.686      4.961       0    0\n",
       "3  10.407      3.993       0    0\n",
       "4  10.814      5.746       0    0"
      ]
     },
     "execution_count": 11,
     "metadata": {},
     "output_type": "execute_result"
    }
   ],
   "source": [
    "df.head()"
   ]
  },
  {
   "cell_type": "markdown",
   "metadata": {},
   "source": [
    "### The Linear Regression\n",
    "\n",
    "Until now, Y was a continuous variable. Now the Y is binary (takes values 0 or 1). Is linear regression still valid?\n",
    "\n",
    "Let's compare the linear regression versus [lowess](https://en.wikipedia.org/wiki/Local_regression)."
   ]
  },
  {
   "cell_type": "code",
   "execution_count": 12,
   "metadata": {},
   "outputs": [
    {
     "data": {
      "image/png": "[encoded data removed]",
      "text/plain": [
       "<Figure size 432x288 with 1 Axes>"
      ]
     },
     "metadata": {},
     "output_type": "display_data"
    }
   ],
   "source": [
    "fig, ax = plt.subplots()\n",
    "\n",
    "sns.regplot(x=\"Lrenda\", y=\"Vot\", data=df, \n",
    "            ci=None, ax=ax, label=\"lm\")\n",
    "sns.regplot(x=\"Lrenda\", y=\"Vot\", data=df,\n",
    "           y_jitter=.03,ci=None, lowess=True, ax=ax, label=\"lowess\");\n",
    "ax.legend(loc=5);\n",
    "\n",
    "fig.suptitle('Regression with binary dependent');\n"
   ]
  },
  {
   "cell_type": "markdown",
   "metadata": {},
   "source": [
    "Let us now look at the summary of linear regression."
   ]
  },
  {
   "cell_type": "code",
   "execution_count": 13,
   "metadata": {},
   "outputs": [
    {
     "name": "stdout",
     "output_type": "stream",
     "text": [
      "                            OLS Regression Results                            \n",
      "==============================================================================\n",
      "Dep. Variable:                    Vot   R-squared:                       0.222\n",
      "Model:                            OLS   Adj. R-squared:                  0.221\n",
      "Method:                 Least Squares   F-statistic:                     228.3\n",
      "Date:                Sun, 28 Jul 2024   Prob (F-statistic):           1.51e-45\n",
      "Time:                        11:01:52   Log-Likelihood:                -475.98\n",
      "No. Observations:                 800   AIC:                             956.0\n",
      "Df Residuals:                     798   BIC:                             965.3\n",
      "Df Model:                           1                                         \n",
      "Covariance Type:            nonrobust                                         \n",
      "==============================================================================\n",
      "                 coef    std err          t      P>|t|      [0.025      0.975]\n",
      "------------------------------------------------------------------------------\n",
      "Intercept      2.8976      0.156     18.556      0.000       2.591       3.204\n",
      "Lrenda        -0.2340      0.015    -15.109      0.000      -0.264      -0.204\n",
      "==============================================================================\n",
      "Omnibus:                      386.583   Durbin-Watson:                   1.993\n",
      "Prob(Omnibus):                  0.000   Jarque-Bera (JB):               45.460\n",
      "Skew:                          -0.113   Prob(JB):                     1.34e-10\n",
      "Kurtosis:                       1.854   Cond. No.                         102.\n",
      "==============================================================================\n",
      "\n",
      "Notes:\n",
      "[1] Standard Errors assume that the covariance matrix of the errors is correctly specified.\n"
     ]
    }
   ],
   "source": [
    "re0 = smf.ols(formula='Vot ~ Lrenda', data=df).fit()  #specification and fitting\n",
    "print(re0.summary())    # summary"
   ]
  },
  {
   "cell_type": "markdown",
   "metadata": {},
   "source": [
    "Problems when Y is binary with linear regression:\n",
    "\n",
    "- The relationship is non-linear\n",
    "- The error terms are heteroskedastic\n",
    "- The error term has no normal distribution\n",
    "- Prediction range exceeds (0,1)"
   ]
  },
  {
   "cell_type": "code",
   "execution_count": 14,
   "metadata": {},
   "outputs": [
    {
     "data": {
      "image/png": "[encoded data removed]",
      "text/plain": [
       "<Figure size 432x288 with 1 Axes>"
      ]
     },
     "metadata": {},
     "output_type": "display_data"
    }
   ],
   "source": [
    "# fitted values\n",
    "model_fitted_y = re0.fittedvalues\n",
    "\n",
    "#  Plot\n",
    "plot = sns.residplot(x=model_fitted_y, y='Vot', data=df, lowess=True, \n",
    "                     scatter_kws={'alpha': 0.5}, \n",
    "                     line_kws={'color': 'red', 'lw': 1, 'alpha': 0.8})\n",
    "\n",
    "# Titel and labels\n",
    "plot.set_title('Residuals vs Fitted')\n",
    "plot.set_xlabel('Fitted values')\n",
    "plot.set_ylabel('Residuals');\n"
   ]
  },
  {
   "cell_type": "code",
   "execution_count": null,
   "metadata": {},
   "outputs": [],
   "source": [
    "res = re0.resid # residuals\n",
    "fig = sm.qqplot(res, fit=True, line=\"45\");\n"
   ]
  },
  {
   "cell_type": "markdown",
   "metadata": {},
   "source": [
    "### The Logistic Regression\n",
    "\n",
    "\n",
    "The alternative is the logistic regression model:\n",
    "\n",
    "Suppose that $ Y_ {i} \\sim \\mbox {Bernoulli} (p_i) $, $ p_i = P (Y_i = 1), \\, i = 1, \\dots, n $\n",
    "\n",
    "Transform:\n",
    "\n",
    "$$ p \\rightarrow odds (p) \\rightarrow Logit (p) $$\n",
    "\n",
    "where $ odds (p) = p / (1-p) $ .\n",
    "\n",
    "$ p \\rightarrow odds (p) \\equiv p / (1- p) \\rightarrow Logit (p) = \\ln \\, (odds (p)) = \\ln \\frac {p} {1 - p} \\leftrightarrow p = \\frac {1} {1 + e ^ {- L}} $\n",
    "\n",
    "Linear model for $ L = Logit (p) = \\ln \\frac {p} {1 - p} $:\n",
    "\n",
    "$ L = \\beta_0 + \\beta_1 X_1 + \\beta_2 X_2 + \\beta_3 X_3 $ Nonlinear model for p, where:\n",
    "\n",
    "$ p \\equiv E (Y \\mid X_1, X_2, X_3) = \\frac {1} {1 + e ^ {- (\\beta_0 + \\beta_1 X_1 + \\beta_2 X_2 + \\beta_3 X_3)}} $\n",
    "\n",
    "versus the classic linear regression model which says that $ p = \\beta_0 + \\beta_1 X_1 + \\beta_2 X_2 + \\beta_3 X_3 $.\n",
    "\n",
    "Example: Y = Vote, X = Income $ P (Y = 1) = p = \\frac {1} {1 + e ^ {- L_i}} = \\frac {1} {1 + e ^ {- (\\alpha + \\beta * Lend)}} $."
   ]
  },
  {
   "cell_type": "markdown",
   "metadata": {},
   "source": [
    "\n"
   ]
  },
  {
   "cell_type": "code",
   "execution_count": null,
   "metadata": {},
   "outputs": [],
   "source": [
    "re1 = sm.Logit.from_formula(formula='Vot ~ Lrenda', data=df).fit()\n",
    "print(re1.summary())    # summary"
   ]
  },
  {
   "cell_type": "markdown",
   "metadata": {},
   "source": [
    "\n"
   ]
  },
  {
   "cell_type": "markdown",
   "metadata": {},
   "source": [
    "The regression coefficients:"
   ]
  },
  {
   "cell_type": "code",
   "execution_count": null,
   "metadata": {},
   "outputs": [],
   "source": [
    "re1.params"
   ]
  },
  {
   "cell_type": "markdown",
   "metadata": {},
   "source": [
    "$$P(Y = 1) = p = \\frac{1}{1 + e^{- (12.388980 - 1.208374 * Lrenda)}}$$\n",
    "\n"
   ]
  },
  {
   "cell_type": "markdown",
   "metadata": {},
   "source": [
    "### Parameters interpretation - odds"
   ]
  },
  {
   "cell_type": "code",
   "execution_count": null,
   "metadata": {},
   "outputs": [],
   "source": [
    "np.round(np.exp(re1.params),4)"
   ]
  },
  {
   "cell_type": "markdown",
   "metadata": {},
   "source": [
    "$\\hat{L} = 12.388980 - 1.208374  * Lrenda$\n",
    "\n",
    "$exp(-1.208374 )= 0.2987 \\rightarrow 0.2987 - 1 = -0.7013 \\rightarrow odds(p)$\n",
    "\n",
    "Decrease 70% in the change from x to X + 1 (approximately double income as they are on a log scale).\n",
    "\n",
    "<b>\n",
    "\n",
    "$(\\exp(\\beta) - 1)\\times100$ =% odds increase / decrease\n",
    "\n",
    "</b>\n"
   ]
  },
  {
   "cell_type": "markdown",
   "metadata": {},
   "source": [
    "### Parameters interpretation - Marginal effects\n",
    "\n",
    "Odds interpretation is not easy to interpret. It is common to present estimates of marginal effects: the effect of a small change in the covariates on the probability of a particular outcome. \n",
    "\n",
    "In the case of Logistic regression, the marginal effect of a covariate $x_1$ on the probability $P(Y = 1)$ is measured by the partial derivative:\n",
    "\n",
    "$$\\frac{∂P(Y = 1)}{∂x1} = \\beta_1 \\frac{∂logit(X \\beta)}{∂(X \\beta)}$$\n",
    "\n",
    "\n",
    "- By default, the mean of $\\frac{∂logit(X \\beta)}{∂(X \\beta)}$ are taken. \n",
    "- By default, binary variables are treated as continuous (`dummy=False`), unless this can be changed to 0 to 1 change (`dummy=True`).\n",
    "\n",
    "More details on [get_margeff()](https://www.statsmodels.org/devel/generated/statsmodels.discrete.discrete_model.LogitResults.get_margeff.html) function.\n"
   ]
  },
  {
   "cell_type": "code",
   "execution_count": null,
   "metadata": {},
   "outputs": [],
   "source": [
    "print(re1.get_margeff(dummy=True).summary())"
   ]
  },
  {
   "cell_type": "markdown",
   "metadata": {},
   "source": [
    "In terms of marginal effects, now the interpretation is:\n",
    "\n",
    "- Doubling the income implies a deacrease of 0.23 points of the probability to vote.\n",
    "\n",
    "Observe that now, the variation is in absolute values of the probabilities, compared to the relative variation in terms of odds with previous interpretation."
   ]
  },
  {
   "cell_type": "markdown",
   "metadata": {},
   "source": [
    "### Linear versus Logistics\n",
    "\n",
    "Taking the coefficients of linear and logit models the probabilities can be calculated:"
   ]
  },
  {
   "cell_type": "code",
   "execution_count": null,
   "metadata": {
    "scrolled": true
   },
   "outputs": [],
   "source": [
    "df[\"P_lm_Vot\"]  = 2.8975953 - 0.2340296  * df.Lrenda \n",
    "df[\"P_glm_Vot\"] = 1/(1+ np.exp(-(12.388980 - 1.208374 * df.Lrenda  )))\n",
    "\n",
    "df[[\"P_glm_Vot\",\"P_lm_Vot\"]].describe()"
   ]
  },
  {
   "cell_type": "markdown",
   "metadata": {},
   "source": [
    "We observe negative undesirable values above 1 and below 0 in the variable P_lm_Vot. We see graphically,"
   ]
  },
  {
   "cell_type": "code",
   "execution_count": null,
   "metadata": {},
   "outputs": [],
   "source": [
    "fig, ax = plt.subplots()\n",
    "\n",
    "sns.regplot(x=\"Lrenda\", y=\"Vot\", data=df, \n",
    "            ci=None, ax=ax, label=\"lm\")\n",
    "sns.regplot(x=\"Lrenda\", y=\"Vot\", data=df,\n",
    "           ci=None, lowess=True, ax=ax, label=\"lowess\");\n",
    "sns.regplot(x=\"Lrenda\", y=\"Vot\", data=df,\n",
    "           y_jitter=.03,ci=None, logistic=True, ax=ax, label=\"Logit\");\n",
    "ax.legend(loc=5);\n",
    "\n",
    "fig.suptitle('Regression with binary dependent');\n"
   ]
  },
  {
   "cell_type": "markdown",
   "metadata": {},
   "source": [
    "Observe how the curve obtained by logistic regression (Logit) better captures the trend observed through Lowess regression. Additionally, logistic regression defines an asymptote with respect to 0 and 1 (it approaches, but never crosses)."
   ]
  },
  {
   "cell_type": "markdown",
   "metadata": {},
   "source": [
    "### Logistic regression with covariates: Lrenda, gender ...\n",
    "\n",
    "We adjust a first model with other covariates."
   ]
  },
  {
   "cell_type": "code",
   "execution_count": null,
   "metadata": {},
   "outputs": [],
   "source": [
    "re2 = smf.ols(formula='Vot ~ Lrenda + Genere', data=df).fit()"
   ]
  },
  {
   "cell_type": "code",
   "execution_count": null,
   "metadata": {},
   "outputs": [],
   "source": [
    "re3 = sm.Logit.from_formula(formula='Vot ~ Lrenda + Genere ', data=df).fit()\n"
   ]
  },
  {
   "cell_type": "code",
   "execution_count": null,
   "metadata": {},
   "outputs": [],
   "source": [
    "stargazer = Stargazer([re0, re1, re2, re3])\n",
    "display(HTML(stargazer.render_html()))\n"
   ]
  },
  {
   "cell_type": "markdown",
   "metadata": {},
   "source": [
    "The coefficients of the linear part of the logistic regression.\n"
   ]
  },
  {
   "cell_type": "code",
   "execution_count": null,
   "metadata": {},
   "outputs": [],
   "source": [
    "np.round(re3.params,2)\n"
   ]
  },
  {
   "cell_type": "markdown",
   "metadata": {},
   "source": [
    "We interpret the coefficients in terms of odds.\n"
   ]
  },
  {
   "cell_type": "code",
   "execution_count": null,
   "metadata": {},
   "outputs": [],
   "source": [
    "np.round(np.exp(re3.params),4) - 1"
   ]
  },
  {
   "cell_type": "markdown",
   "metadata": {},
   "source": [
    "- Income, at gender equality, has increased in absolute terms its effect in a decrease of 73% on the odds of the intention to vote by doubling the income\n",
    "- On the other hand, men have a 12% increase in the odds of voting intention than women, with equal income.\n",
    "\n",
    "The interpretation in terms of marginal effects:"
   ]
  },
  {
   "cell_type": "code",
   "execution_count": null,
   "metadata": {
    "scrolled": true
   },
   "outputs": [],
   "source": [
    "print(re3.get_margeff(dummy=True).summary())\n"
   ]
  },
  {
   "cell_type": "markdown",
   "metadata": {},
   "source": [
    "- Doubling the income implies a deacrease of 0.18 points of the probability to vote.\n",
    "- A men have a probablity to vote to the party, 0.45 points greater than women.\n"
   ]
  },
  {
   "cell_type": "markdown",
   "metadata": {},
   "source": [
    "### Logistic regression with covariates: graph of conditional effects\n",
    "\n",
    "The `visreg()` function, created at the top of the notebook, solves the visualization of the effect of each conditioned condition on the fixed values of the other variables (use the median in numerics or the mode in factors).\n",
    "\n",
    "In this case we see the effect of income on voting intention, conditioned on gender.\n"
   ]
  },
  {
   "cell_type": "code",
   "execution_count": null,
   "metadata": {
    "scrolled": true
   },
   "outputs": [],
   "source": [
    "visreg(re3, xvar = \"Lrenda\",by = \"Genere\", data=df);"
   ]
  },
  {
   "cell_type": "markdown",
   "metadata": {},
   "source": [
    "The curve quantifies the variation of probability of vote in each level of Lrenda conditioned to the Gender.\n",
    "\n",
    "This relation is clearly non linear and can be compared with the mean variation in terms of marginal effect commented above.\n",
    "\n",
    "We observe how men have a curve clearly above women. Also, the variation in voting intention is more pronounced (more pending) in women in low-income sections than in men (non-linear effect).\n"
   ]
  },
  {
   "cell_type": "markdown",
   "metadata": {},
   "source": [
    "## Example of Vtown data\n",
    "\n",
    "Toxic waste pollution in the grounds of two public schools. Some people thought that the school should be closed until the ground was declared safe. Others argued that the costs did not justify the risk and wanted the affected school to remain open.\n",
    "\n",
    "- SCHOOL: Answer if they wanted the school to be closed (CLOSE) or open (OPEN).\n",
    "- GENDER: Gender of the respondent.\n",
    "- LIVED: Years of residence in the municipality.\n",
    "- KIDS: The respondent has children, or not.\n",
    "- EDUC: Years of the respondent's studies.\n",
    "- MEETINGS: The respondent went to rallies about crisis caused by pollution.\n",
    "- CONTAM: The respondent believes that his property has been contaminated (or not).\n",
    "\n",
    "\n",
    "- Motivation: read the news [Exposure to maternal contamination and weight loss (LBW) of babies] (http://sociedad.elpais.com/sociedad/2013/02/05/actualidad/1360097440_151199.html)\n",
    "\n",
    "The data."
   ]
  },
  {
   "cell_type": "code",
   "execution_count": null,
   "metadata": {},
   "outputs": [],
   "source": [
    "da = pd.read_csv(\"VtTown.csv\")\n",
    "\n",
    "da.head()"
   ]
  },
  {
   "cell_type": "markdown",
   "metadata": {},
   "source": [
    "\n"
   ]
  },
  {
   "cell_type": "code",
   "execution_count": null,
   "metadata": {},
   "outputs": [],
   "source": [
    "da.SCHOOL.value_counts()"
   ]
  },
  {
   "cell_type": "markdown",
   "metadata": {},
   "source": [
    "\n"
   ]
  },
  {
   "cell_type": "code",
   "execution_count": null,
   "metadata": {},
   "outputs": [],
   "source": [
    "da[\"Y\"] = (da.SCHOOL == \"CLOSE\").astype(int)\n",
    "\n",
    "da.Y.value_counts()"
   ]
  },
  {
   "cell_type": "markdown",
   "metadata": {},
   "source": [
    "The aim is to analyze the propensity of the intention to close the school until it is confirmed that it is already contaminated."
   ]
  },
  {
   "cell_type": "code",
   "execution_count": null,
   "metadata": {},
   "outputs": [],
   "source": [
    "reg1 = sm.Logit.from_formula(formula='Y ~ LIVED + MEETINGS', data=da).fit()\n",
    "print(reg1.summary())"
   ]
  },
  {
   "cell_type": "markdown",
   "metadata": {},
   "source": [
    "Graphically,\n"
   ]
  },
  {
   "cell_type": "code",
   "execution_count": null,
   "metadata": {},
   "outputs": [],
   "source": [
    "visreg(reg1, xvar=\"LIVED\", \n",
    "       by = \"MEETINGS\",\n",
    "       data=da);\n"
   ]
  },
  {
   "cell_type": "markdown",
   "metadata": {},
   "source": [
    "We define a complete model with a GENDER and KIDS interaction factor."
   ]
  },
  {
   "cell_type": "code",
   "execution_count": null,
   "metadata": {
    "scrolled": true
   },
   "outputs": [],
   "source": [
    "lreg2 = sm.Logit.from_formula(\n",
    "    formula='Y ~ LIVED + EDUC+ CONTAM+MEETINGS+GENDER+KIDS+ KIDS*GENDER'\n",
    "    , data=da).fit()\n",
    "\n",
    "print(lreg2.summary())"
   ]
  },
  {
   "cell_type": "markdown",
   "metadata": {},
   "source": [
    "\n"
   ]
  },
  {
   "cell_type": "code",
   "execution_count": null,
   "metadata": {},
   "outputs": [],
   "source": [
    "da[\"MALE\"] =  (da.GENDER==\"MALE\").astype(int)\n",
    "da[\"MALE_NOKIDS\"] = ((da.KIDS == \"NO\") & (da.GENDER == \"MALE\")).astype(int)\n",
    "\n",
    "lreg3 = sm.Logit.from_formula(\n",
    "    formula='Y ~ LIVED + EDUC + CONTAM + MEETINGS+ MALE_NOKIDS'\n",
    "    , data=da).fit()\n",
    "\n",
    "stargazer = Stargazer([lreg2, lreg3])\n",
    "display(HTML(stargazer.render_html()))"
   ]
  },
  {
   "cell_type": "markdown",
   "metadata": {},
   "source": [
    "We compare the fit of the two models with `anovaLogit()` created at the top of the notebook."
   ]
  },
  {
   "cell_type": "code",
   "execution_count": null,
   "metadata": {},
   "outputs": [],
   "source": [
    "anovaLogit(lreg3,lreg2)"
   ]
  },
  {
   "cell_type": "markdown",
   "metadata": {},
   "source": [
    "We analyze the change in the effect of the years of residence conditioned on having (or not having) children, within the group of men."
   ]
  },
  {
   "cell_type": "code",
   "execution_count": null,
   "metadata": {},
   "outputs": [],
   "source": [
    "da.head()"
   ]
  },
  {
   "cell_type": "code",
   "execution_count": null,
   "metadata": {},
   "outputs": [],
   "source": [
    "da.describe()"
   ]
  },
  {
   "cell_type": "code",
   "execution_count": null,
   "metadata": {},
   "outputs": [],
   "source": [
    "# 'Y ~ LIVED + EDUC+ CONTAM+MEETINGS+GENDER+KIDS+ KIDS*GENDER'\n",
    "\n",
    "visreg(lreg2, \"LIVED\", \n",
    "       by = \"KIDS\",\n",
    "       data=da,\n",
    "       cond={'GENDER':'MALE','EDUC':13,'CONTAM':'NO','MEETINGS': 'NO' } \n",
    "      );"
   ]
  },
  {
   "cell_type": "markdown",
   "metadata": {},
   "source": [
    "### Preliminary bivariate analysis\n",
    "\n",
    "Let's take a step back. As in the case of linear regression, before modeling, it is interesting to make a brief bivariate analysis of the variables to be introduced into the model.\n"
   ]
  },
  {
   "cell_type": "markdown",
   "metadata": {},
   "source": [
    "Using the quantiles of the variable we can define a partition of the variable lived."
   ]
  },
  {
   "cell_type": "code",
   "execution_count": null,
   "metadata": {
    "scrolled": true
   },
   "outputs": [],
   "source": [
    "da[\"LIVED_T\"] = pd.qcut(da.LIVED, 6)\n",
    "\n",
    "da[\"LIVED_T\"].value_counts().sort_index()"
   ]
  },
  {
   "cell_type": "markdown",
   "metadata": {},
   "source": [
    "Also a equidistant partition could be defined with function `pd.cut()`."
   ]
  },
  {
   "cell_type": "code",
   "execution_count": null,
   "metadata": {},
   "outputs": [],
   "source": [
    "da[\"LIVED_T\"] = pd.cut(da.LIVED, 4, right=False)\n",
    "\n",
    "da[\"LIVED_T\"].value_counts().sort_index()"
   ]
  },
  {
   "cell_type": "markdown",
   "metadata": {},
   "source": [
    "Also, the propensity to de binary Variable could be added."
   ]
  },
  {
   "cell_type": "code",
   "execution_count": null,
   "metadata": {},
   "outputs": [],
   "source": [
    "da.groupby([\"LIVED_T\"]).agg(abs_freq = ('ID','count'),\n",
    "                            propensity = ('Y','mean'))\n"
   ]
  },
  {
   "cell_type": "markdown",
   "metadata": {},
   "source": [
    "Graphically,"
   ]
  },
  {
   "cell_type": "markdown",
   "metadata": {},
   "source": [
    "#### Bivariate for Categorical variables\n",
    "\n",
    "The function `bivar_bin()`, created at the top of the notebook is used."
   ]
  },
  {
   "cell_type": "code",
   "execution_count": null,
   "metadata": {
    "scrolled": true
   },
   "outputs": [],
   "source": [
    "bivar_bin(da,catVar=\"KIDS\",binVar=\"Y\")"
   ]
  },
  {
   "cell_type": "code",
   "execution_count": null,
   "metadata": {
    "scrolled": true
   },
   "outputs": [],
   "source": [
    "bivar_bin(da,catVar=\"GENDER\",binVar=\"Y\")"
   ]
  },
  {
   "cell_type": "code",
   "execution_count": null,
   "metadata": {},
   "outputs": [],
   "source": [
    "bivar_bin(da,catVar=\"CONTAM\",binVar=\"Y\")"
   ]
  },
  {
   "cell_type": "code",
   "execution_count": null,
   "metadata": {},
   "outputs": [],
   "source": [
    "bivar_bin(da,catVar=\"MEETINGS\",binVar=\"Y\")"
   ]
  },
  {
   "cell_type": "markdown",
   "metadata": {},
   "source": [
    "#### Bivariate for numerical variables"
   ]
  },
  {
   "cell_type": "code",
   "execution_count": null,
   "metadata": {},
   "outputs": [],
   "source": [
    "# default method for numericals: quantile cut, 7 cuts\n",
    "\n",
    "bivar_bin(da,catVar=\"LIVED\",binVar=\"Y\")"
   ]
  },
  {
   "cell_type": "code",
   "execution_count": null,
   "metadata": {},
   "outputs": [],
   "source": [
    "# changing to 5 quantiles\n",
    "\n",
    "bivar_bin(da,catVar=\"LIVED\",binVar=\"Y\", points=5)"
   ]
  },
  {
   "cell_type": "code",
   "execution_count": null,
   "metadata": {},
   "outputs": [],
   "source": [
    "# equidistant method with 5 intervals\n",
    "\n",
    "bivar_bin(da,catVar=\"LIVED\",binVar=\"Y\",method=\"cut\", points=5)"
   ]
  },
  {
   "cell_type": "code",
   "execution_count": null,
   "metadata": {},
   "outputs": [],
   "source": [
    "# sometimes the number of quantiles is automatically reduced due to distribution\n",
    "\n",
    "bivar_bin(da,catVar=\"EDUC\",binVar=\"Y\")"
   ]
  },
  {
   "cell_type": "code",
   "execution_count": null,
   "metadata": {},
   "outputs": [],
   "source": [
    "# manual cutting points\n",
    "bivar_bin(da,catVar=\"EDUC\",binVar=\"Y\",method=\"cut\", \n",
    "          points=[-np.infty,15,17,np.infty], saveTransf=True)\n"
   ]
  },
  {
   "cell_type": "markdown",
   "metadata": {},
   "source": [
    "-  look the use of np.infty\n",
    "-  Also new transformed variable is generated EDUC_T\n"
   ]
  },
  {
   "cell_type": "code",
   "execution_count": null,
   "metadata": {},
   "outputs": [],
   "source": [
    "da.EDUC_T.value_counts().sort_index()"
   ]
  },
  {
   "cell_type": "markdown",
   "metadata": {},
   "source": [
    "## Barómetre de Catalunya (2021-01-29)\n",
    "\n",
    "Analysis of the pre-election poll. Voter profile in the PSC (Catalonia Socialists Party) according to the voting intention variable.\n",
    "\n",
    "Look other Barometer polls [here](https://ceo.gencat.cat/ca/barometre/).\n"
   ]
  },
  {
   "cell_type": "code",
   "execution_count": null,
   "metadata": {},
   "outputs": [],
   "source": [
    "# downloading the file\n",
    "#url = 'http://upceo.ceo.gencat.cat/wsceop/7908/Microdades%20anonimitzades%20-992.sav'\n",
    "#r = requests.get(url, allow_redirects=True)\n",
    "#open('data.sav', 'wb').write(r.content)\n",
    "\n",
    "# loading the spss file\n",
    "df = pd.read_spss(\"data.sav\")\n",
    "\n",
    "# selecting vars\n",
    "var_select = [\"P15R\",\"PROVINCIA\",\"HABITAT\",\"SEXE\",\"EDAT\",\"P38\"]\n",
    "\n",
    "df = df[var_select]\n",
    "\n",
    "df.shape"
   ]
  },
  {
   "cell_type": "markdown",
   "metadata": {},
   "source": [
    "Selected variables:\n",
    "\n",
    "- P15R: In the elections to the Parliament of Catalonia, called for next February 14 - which party or coalition will you vote for? (Grouping matches)\n",
    "- PROVINCIA: PROVINCE\n",
    "- HABITAT: HABITAT\n",
    "- SEXE: SEX\n",
    "- EDAT: AGE\n",
    "- P38: Adding the net monthly income of all the people in your household, - approximately, what is the family income that enters your home each month\n"
   ]
  },
  {
   "cell_type": "markdown",
   "metadata": {},
   "source": [
    "First descritives,"
   ]
  },
  {
   "cell_type": "code",
   "execution_count": null,
   "metadata": {},
   "outputs": [],
   "source": [
    "df.info()"
   ]
  },
  {
   "cell_type": "code",
   "execution_count": null,
   "metadata": {},
   "outputs": [],
   "source": [
    "df.head()"
   ]
  },
  {
   "cell_type": "code",
   "execution_count": null,
   "metadata": {
    "scrolled": true
   },
   "outputs": [],
   "source": [
    "df.describe()"
   ]
  },
  {
   "cell_type": "markdown",
   "metadata": {},
   "source": [
    "### Missing analysis"
   ]
  },
  {
   "cell_type": "code",
   "execution_count": null,
   "metadata": {},
   "outputs": [],
   "source": [
    "sns.displot(\n",
    "    data=df.isna().melt(value_name=\"missing\"),\n",
    "    y=\"variable\",\n",
    "    hue=\"missing\",\n",
    "    multiple=\"fill\",\n",
    "    aspect=1.25\n",
    ");"
   ]
  },
  {
   "cell_type": "markdown",
   "metadata": {},
   "source": [
    "Aparently, theres no missings in our data set.\n"
   ]
  },
  {
   "cell_type": "markdown",
   "metadata": {},
   "source": [
    "### Dependent variable "
   ]
  },
  {
   "cell_type": "markdown",
   "metadata": {},
   "source": [
    "We see the frequency of voting intention in each party."
   ]
  },
  {
   "cell_type": "code",
   "execution_count": null,
   "metadata": {},
   "outputs": [],
   "source": [
    "ax = sns.countplot(data=df, x=\"P15R\")\n",
    "ax.tick_params(labelrotation=90)\n",
    "ax.set(title=\"P15R - Voting intention\")\n"
   ]
  },
  {
   "cell_type": "code",
   "execution_count": null,
   "metadata": {},
   "outputs": [],
   "source": [
    "df[\"Vot\"] = (df.P15R == \"PSC\").astype(int)\n",
    "df.Vot.describe()\n"
   ]
  },
  {
   "cell_type": "markdown",
   "metadata": {},
   "source": [
    "10.6% are observed in the intention of the PSC vote."
   ]
  },
  {
   "cell_type": "markdown",
   "metadata": {},
   "source": [
    "### Univariate and bivariate analysis\n"
   ]
  },
  {
   "cell_type": "markdown",
   "metadata": {},
   "source": [
    "#### PROVINCIA\n",
    "\n"
   ]
  },
  {
   "cell_type": "code",
   "execution_count": null,
   "metadata": {
    "scrolled": true
   },
   "outputs": [],
   "source": [
    "bivar_bin(df,catVar=\"PROVINCIA\",binVar=\"Vot\")"
   ]
  },
  {
   "cell_type": "markdown",
   "metadata": {},
   "source": [
    "Some difference here by Province, but may be not significant! "
   ]
  },
  {
   "cell_type": "markdown",
   "metadata": {},
   "source": [
    "#### HABITAT\n",
    "\n"
   ]
  },
  {
   "cell_type": "code",
   "execution_count": null,
   "metadata": {},
   "outputs": [],
   "source": [
    "bivar_bin(df,catVar=\"HABITAT\",binVar=\"Vot\")"
   ]
  },
  {
   "cell_type": "markdown",
   "metadata": {},
   "source": [
    "Some problems with order of categories and some recodification are suggested by graphical analysis,\n"
   ]
  },
  {
   "cell_type": "code",
   "execution_count": null,
   "metadata": {
    "scrolled": true
   },
   "outputs": [],
   "source": [
    "df[\"HABITAT\"].dtype"
   ]
  },
  {
   "cell_type": "markdown",
   "metadata": {},
   "source": [
    "The type CategoricalDtype could be recodifed throug category names."
   ]
  },
  {
   "cell_type": "code",
   "execution_count": null,
   "metadata": {},
   "outputs": [],
   "source": [
    "df[\"HABITAT\"].cat.categories"
   ]
  },
  {
   "cell_type": "code",
   "execution_count": null,
   "metadata": {},
   "outputs": [],
   "source": [
    "# copy of the column\n",
    "df[\"HABITAT_R\"] = df[\"HABITAT\"]\n",
    "# category reorder\n",
    "df[\"HABITAT_R\"].cat.categories = [30000,500000,6000,100000,2000,1000000]\n",
    "# casting to numeric\n",
    "df[\"HABITAT_R\"] = df[\"HABITAT_R\"].astype(float)\n"
   ]
  },
  {
   "cell_type": "markdown",
   "metadata": {},
   "source": [
    "Validating with original and final variable:"
   ]
  },
  {
   "cell_type": "code",
   "execution_count": null,
   "metadata": {},
   "outputs": [],
   "source": [
    "df[\"HABITAT\"].value_counts()"
   ]
  },
  {
   "cell_type": "code",
   "execution_count": null,
   "metadata": {
    "scrolled": true
   },
   "outputs": [],
   "source": [
    "df[\"HABITAT_R\"].value_counts().sort_index()"
   ]
  },
  {
   "cell_type": "code",
   "execution_count": null,
   "metadata": {},
   "outputs": [],
   "source": [
    "bivar_bin(df,catVar=\"HABITAT_R\",binVar=\"Vot\")"
   ]
  },
  {
   "cell_type": "markdown",
   "metadata": {},
   "source": [
    "Bigger propensities to vote PSC in the intermediate habitat sizes. "
   ]
  },
  {
   "cell_type": "code",
   "execution_count": null,
   "metadata": {},
   "outputs": [],
   "source": [
    "df[\"HABITAT_T\"] = \"2-Large hab\"\n",
    "df.loc[df.HABITAT_R<150000,\"HABITAT_T\"] = \"1-Medium hab\"\n",
    "df.loc[df.HABITAT_R<10000,\"HABITAT_T\"] = \"3-Small hab\"\n",
    "\n",
    "bivar_bin(df,catVar=\"HABITAT_T\",binVar=\"Vot\")"
   ]
  },
  {
   "cell_type": "markdown",
   "metadata": {},
   "source": [
    "- The first category in alfanumerical order is the reference category for the model. \n",
    "- It's a comoon practice to choose the most populated category in order to obtain standar errors more robust in the logitic regresion model."
   ]
  },
  {
   "cell_type": "code",
   "execution_count": null,
   "metadata": {},
   "outputs": [],
   "source": [
    "df.HABITAT_T.value_counts().sort_index()"
   ]
  },
  {
   "cell_type": "markdown",
   "metadata": {},
   "source": [
    "#### SEXE\n",
    "\n"
   ]
  },
  {
   "cell_type": "code",
   "execution_count": null,
   "metadata": {},
   "outputs": [],
   "source": [
    "bivar_bin(df,catVar=\"SEXE\",binVar=\"Vot\")"
   ]
  },
  {
   "cell_type": "markdown",
   "metadata": {},
   "source": [
    "No difference between men and women."
   ]
  },
  {
   "cell_type": "markdown",
   "metadata": {},
   "source": [
    "#### EDAT\n",
    "\n"
   ]
  },
  {
   "cell_type": "code",
   "execution_count": null,
   "metadata": {},
   "outputs": [],
   "source": [
    "bivar_bin(df,catVar=\"EDAT\",binVar=\"Vot\")\n"
   ]
  },
  {
   "cell_type": "markdown",
   "metadata": {},
   "source": [
    "Clear increase in voting intention by age.\n",
    "\n"
   ]
  },
  {
   "cell_type": "markdown",
   "metadata": {},
   "source": [
    "#### P38 - Income\n",
    "\n"
   ]
  },
  {
   "cell_type": "code",
   "execution_count": null,
   "metadata": {},
   "outputs": [],
   "source": [
    "bivar_bin(df,catVar=\"P38\",binVar=\"Vot\")\n"
   ]
  },
  {
   "cell_type": "markdown",
   "metadata": {},
   "source": [
    "A recodification is needed."
   ]
  },
  {
   "cell_type": "code",
   "execution_count": null,
   "metadata": {},
   "outputs": [],
   "source": [
    "df[\"P38\"].cat.categories"
   ]
  },
  {
   "cell_type": "code",
   "execution_count": null,
   "metadata": {},
   "outputs": [],
   "source": [
    "# copy of the column\n",
    "df[\"INCOME\"] = df[\"P38\"]\n",
    "# category reorder\n",
    "df[\"INCOME\"].cat.categories = [1500,2500,3500,4500,500,5500,-1,-2]\n",
    "# casting to numeric\n",
    "df[\"INCOME\"] = df[\"INCOME\"].astype(float)\n"
   ]
  },
  {
   "cell_type": "markdown",
   "metadata": {},
   "source": [
    "Validating."
   ]
  },
  {
   "cell_type": "code",
   "execution_count": null,
   "metadata": {},
   "outputs": [],
   "source": [
    "df[\"P38\"].value_counts()"
   ]
  },
  {
   "cell_type": "code",
   "execution_count": null,
   "metadata": {},
   "outputs": [],
   "source": [
    "df[\"INCOME\"].value_counts().sort_index()"
   ]
  },
  {
   "cell_type": "code",
   "execution_count": null,
   "metadata": {},
   "outputs": [],
   "source": [
    "bivar_bin(df,catVar=\"INCOME\",binVar=\"Vot\",method=None)"
   ]
  },
  {
   "cell_type": "markdown",
   "metadata": {},
   "source": [
    "- A decrease in voting intention is observed through income.\n",
    "- Don't know and don't answer looks like a mean imputation make sense, although an extra dummy variable could confirm. "
   ]
  },
  {
   "cell_type": "code",
   "execution_count": null,
   "metadata": {},
   "outputs": [],
   "source": [
    "df[\"INCOME_DKNA\"] = \"No\"\n",
    "df.loc[df.P38==\"No ho sap\",\"INCOME_DKNA\"] = \"Yes\"\n",
    "df.loc[df.P38==\"No contesta\",\"INCOME_DKNA\"] = \"Yes\"\n",
    "\n",
    "df.loc[df.P38==\"No ho sap\",\"INCOME\"]   = 2500\n",
    "df.loc[df.P38==\"No contesta\",\"INCOME\"] = 2500"
   ]
  },
  {
   "cell_type": "code",
   "execution_count": null,
   "metadata": {},
   "outputs": [],
   "source": [
    "bivar_bin(df,catVar=\"INCOME_DKNA\",binVar=\"Vot\",method=None)"
   ]
  },
  {
   "cell_type": "markdown",
   "metadata": {},
   "source": [
    "### Model specification\n",
    "\n"
   ]
  },
  {
   "cell_type": "code",
   "execution_count": null,
   "metadata": {},
   "outputs": [],
   "source": [
    "lreg1 = sm.Logit.from_formula(formula='Vot ~ PROVINCIA + HABITAT_T + SEXE + EDAT + np.log(INCOME) + INCOME_DKNA ', data=df).fit()\n",
    "\n",
    "print(lreg1.summary())"
   ]
  },
  {
   "cell_type": "markdown",
   "metadata": {},
   "source": [
    "- EDAT , HABITAT_T are significant at 95% confidence level.\n",
    "\n",
    "Other factors are maintained in order to control the effect of them.\n",
    "\n",
    "The interpretation in terms of marginal effects:"
   ]
  },
  {
   "cell_type": "code",
   "execution_count": null,
   "metadata": {},
   "outputs": [],
   "source": [
    "print(lreg1.get_margeff(dummy=True).summary())\n",
    "\n"
   ]
  },
  {
   "cell_type": "markdown",
   "metadata": {},
   "source": [
    "- For every 10 years, the voting intention increases an 1.7%.\n",
    "- Large and small habitats have a 4% and 6.4% (respec.) lesser propensity to vote PSC than medium habitats\n",
    "- Girona have a 5.9%, significant at 95% confidence level in terms of marginal effects, lesser propensity to vote PSC than Barcelona Province.\n",
    "\n",
    "The conditional effects of Age, through Habitat for a man with 500€ of income in Barcelona is,"
   ]
  },
  {
   "cell_type": "code",
   "execution_count": null,
   "metadata": {},
   "outputs": [],
   "source": [
    "visreg(lreg1, \n",
    "       xvar=\"EDAT\", \n",
    "       by=\"HABITAT_T\",\n",
    "       data=df,\n",
    "       cond={'INCOME':500,'SEXE':\"Home\",\n",
    "             'PROVINCIA':'BARCELONA','INCOME_DKNA':'No'});\n"
   ]
  },
  {
   "cell_type": "markdown",
   "metadata": {},
   "source": [
    "- Men, in the province of Barcelona, with the lowest monthly net income (€ 500) in medium-sized habitats, have a higher probability curve (by age) than other population sizes.\n",
    "- This difference between the other habitat sizes is greater for the elderly than for the younger ones."
   ]
  },
  {
   "cell_type": "markdown",
   "metadata": {},
   "source": [
    "### Influential values in Logistic regression"
   ]
  },
  {
   "cell_type": "markdown",
   "metadata": {},
   "source": [
    "In order to obtain Influential measures, statsmodels need to adjust again, using the GLM function with family family=families.Binomial()."
   ]
  },
  {
   "cell_type": "code",
   "execution_count": null,
   "metadata": {
    "scrolled": true
   },
   "outputs": [],
   "source": [
    "lreg2 = GLM.from_formula(formula='Vot ~ PROVINCIA + HABITAT_T + SEXE + EDAT + np.log(INCOME) + INCOME_DKNA ', data=df,\n",
    "                           family=families.Binomial()).fit()\n",
    "print(lreg2.summary())"
   ]
  },
  {
   "cell_type": "markdown",
   "metadata": {},
   "source": [
    "Same algorithm than previous Logit but with other methods."
   ]
  },
  {
   "cell_type": "code",
   "execution_count": null,
   "metadata": {},
   "outputs": [],
   "source": [
    "stargazer = Stargazer([lreg1, lreg2])\n",
    "display(HTML(stargazer.render_html()))\n"
   ]
  },
  {
   "cell_type": "markdown",
   "metadata": {},
   "source": [
    "The residuals versus LEeverage graph,"
   ]
  },
  {
   "cell_type": "code",
   "execution_count": null,
   "metadata": {
    "scrolled": true
   },
   "outputs": [],
   "source": [
    "fig, ax = plt.subplots(figsize=(12,6))\n",
    "fig = lreg2.get_influence().plot_influence(criterion=\"cooks\", ax=ax)\n"
   ]
  },
  {
   "cell_type": "markdown",
   "metadata": {},
   "source": [
    "The Cook distance is calculated in the same way than OLS."
   ]
  },
  {
   "cell_type": "code",
   "execution_count": null,
   "metadata": {},
   "outputs": [],
   "source": [
    "model_cooks = lreg2.get_influence().cooks_distance[0]  # Cook > 1 influential\n",
    "\n",
    "pd.Series(model_cooks).describe()\n"
   ]
  },
  {
   "cell_type": "markdown",
   "metadata": {},
   "source": [
    "No influential points area observed.\n",
    "\n",
    "Graphically,"
   ]
  },
  {
   "cell_type": "code",
   "execution_count": null,
   "metadata": {},
   "outputs": [],
   "source": [
    "plt.scatter(x=np.arange(len(model_cooks)),y=model_cooks);\n",
    "\n"
   ]
  },
  {
   "cell_type": "markdown",
   "metadata": {},
   "source": [
    "\n",
    "\n"
   ]
  }
 ],
 "metadata": {
  "anaconda-cloud": "",
  "kernelspec": {
   "display_name": "mbdds_rpy20",
   "language": "python",
   "name": "mbdds_rpy20"
  },
  "language_info": {
   "codemirror_mode": {
    "name": "ipython",
    "version": 3
   },
   "file_extension": ".py",
   "mimetype": "text/x-python",
   "name": "python",
   "nbconvert_exporter": "python",
   "pygments_lexer": "ipython3",
   "version": "3.6.9"
  },
  "toc": {
   "base_numbering": 1,
   "nav_menu": {},
   "number_sections": true,
   "sideBar": true,
   "skip_h1_title": false,
   "title_cell": "Table of Contents",
   "title_sidebar": "Contents",
   "toc_cell": true,
   "toc_position": {},
   "toc_section_display": true,
   "toc_window_display": false
  }
 },
 "nbformat": 4,
 "nbformat_minor": 4
}
